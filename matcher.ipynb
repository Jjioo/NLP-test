{
  "cells": [
    {
      "cell_type": "code",
      "execution_count": null,
      "metadata": {
        "id": "0eR75b6zSPGW"
      },
      "outputs": [],
      "source": [
        "# Step 1: Import the necessary libraries\n",
        "import re\n",
        "import spacy\n",
        "import nltk\n",
        "from spacy.matcher import Matcher\n",
        "from nltk.corpus import stopwords"
      ]
    },
    {
      "cell_type": "code",
      "execution_count": null,
      "metadata": {
        "colab": {
          "base_uri": "https://localhost:8080/"
        },
        "id": "_SOC0BthUmEG",
        "outputId": "59a27d73-9e50-4f67-cba5-51e6582605ad"
      },
      "outputs": [
        {
          "name": "stderr",
          "output_type": "stream",
          "text": [
            "[nltk_data] Downloading package stopwords to /root/nltk_data...\n",
            "[nltk_data]   Package stopwords is already up-to-date!\n"
          ]
        },
        {
          "data": {
            "text/plain": [
              "True"
            ]
          },
          "execution_count": 64,
          "metadata": {},
          "output_type": "execute_result"
        }
      ],
      "source": [
        "import nltk\n",
        "nltk.download('stopwords')"
      ]
    },
    {
      "cell_type": "code",
      "execution_count": null,
      "metadata": {
        "id": "MRMYkJc0TY6K"
      },
      "outputs": [],
      "source": [
        "# Step 2: Read the \"reaganomics.txt\" file\n",
        "with open('reaganomics.txt', 'r', encoding='utf-8') as file:\n",
        "    text = file.read()"
      ]
    },
    {
      "cell_type": "code",
      "execution_count": null,
      "metadata": {
        "colab": {
          "base_uri": "https://localhost:8080/"
        },
        "id": "lrSJyjlOT7Gq",
        "outputId": "b11e884c-0d22-4870-ed0d-2e8132b7e0f5"
      },
      "outputs": [
        {
          "data": {
            "text/plain": [
              "31371"
            ]
          },
          "execution_count": 66,
          "metadata": {},
          "output_type": "execute_result"
        }
      ],
      "source": [
        "len(text)"
      ]
    },
    {
      "cell_type": "code",
      "execution_count": null,
      "metadata": {
        "id": "rDlIwntZTmAW"
      },
      "outputs": [],
      "source": [
        "# Step 3: Tokenize the words\n",
        "nlp = spacy.load(\"en_core_web_sm\")\n",
        "doc = nlp(text)"
      ]
    },
    {
      "cell_type": "code",
      "execution_count": null,
      "metadata": {
        "colab": {
          "base_uri": "https://localhost:8080/"
        },
        "id": "OG2CfTJGTznj",
        "outputId": "f48ba834-f2d6-4418-b45f-69b15e2fac2a"
      },
      "outputs": [
        {
          "data": {
            "text/plain": [
              "5933"
            ]
          },
          "execution_count": 68,
          "metadata": {},
          "output_type": "execute_result"
        }
      ],
      "source": [
        "len(doc)"
      ]
    },
    {
      "cell_type": "code",
      "execution_count": null,
      "metadata": {
        "colab": {
          "base_uri": "https://localhost:8080/"
        },
        "id": "5cJL6B5uT2Ix",
        "outputId": "7363c636-a9b8-4206-a986-f61f0d00afa8"
      },
      "outputs": [
        {
          "name": "stdout",
          "output_type": "stream",
          "text": [
            "[\"you'd\", 'to', 'they', 'about', 'hers']\n"
          ]
        }
      ],
      "source": [
        "# Step 4: Eliminate stop words using nltk\n",
        "stop_words = set(stopwords.words('english'))\n",
        "#filtered_tokens = [token.text for token in doc if token.text.lower() not in stop_words]\n",
        "print(list(stop_words)[:5])"
      ]
    },
    {
      "cell_type": "code",
      "execution_count": null,
      "metadata": {
        "colab": {
          "base_uri": "https://localhost:8080/"
        },
        "id": "ztXEz8rjULXE",
        "outputId": "724717d6-aceb-46b8-97c5-cec4b265f96a"
      },
      "outputs": [
        {
          "name": "stdout",
          "output_type": "stream",
          "text": [
            "['Reagan', 'economics', 'attributed', 'Paul', 'Harvey)[1']\n"
          ]
        }
      ],
      "source": [
        "filtered_tokens = [token.text for token in doc if token.text.lower() not in stop_words]\n",
        "print(filtered_tokens[10:15])"
      ]
    },
    {
      "cell_type": "code",
      "execution_count": null,
      "metadata": {
        "colab": {
          "base_uri": "https://localhost:8080/"
        },
        "id": "xvGQcLQyVAGx",
        "outputId": "a3542fea-49d6-4cfd-a3b1-8e7f6c44ffc6"
      },
      "outputs": [
        {
          "name": "stdout",
          "output_type": "stream",
          "text": [
            "Entity: REAGANOMICS, Label: ORG\n",
            "Entity: Ronald] Reagan, Label: PERSON\n",
            "Entity: Paul, Label: PERSON\n",
            "Entity: U.S., Label: GPE\n",
            "Entity: Ronald Reagan, Label: PERSON\n",
            "Entity: the 1980s, Label: DATE\n",
            "Entity: four, Label: CARDINAL\n",
            "Entity: Reagan, Label: PERSON\n",
            "Entity: Reaganomics, Label: NORP\n",
            "Entity: the decades, Label: DATE\n"
          ]
        }
      ],
      "source": [
        "# Step 5: Identify existing Named Entities (NERs)\n",
        "count = 0\n",
        "for ent in doc.ents:\n",
        "    print(f'Entity: {ent.text}, Label: {ent.label_}')\n",
        "    count += 1\n",
        "    if count == 10:\n",
        "        break\n"
      ]
    },
    {
      "cell_type": "code",
      "execution_count": null,
      "metadata": {
        "id": "UcXzqHBmVebY"
      },
      "outputs": [],
      "source": [
        "# Step 6: Apply the Matcher to a paragraph==>\n",
        "##identifying and extracting patterns in text based on token\n",
        "matcher = Matcher(nlp.vocab)"
      ]
    },
    {
      "cell_type": "code",
      "execution_count": null,
      "metadata": {
        "id": "uVZ7zf0hZ5vd"
      },
      "outputs": [],
      "source": [
        "# Example pattern for matching phrases like \"economic policy\"\n",
        "economic_policy_pattern = [{'LOWER': 'economic'}, {'LOWER': 'policy'}]\n",
        "matcher.add('EconomicPolicy',[economic_policy_pattern])"
      ]
    },
    {
      "cell_type": "code",
      "execution_count": null,
      "metadata": {
        "id": "t5jZy7KQWS2E"
      },
      "outputs": [],
      "source": [
        "# Apply the matcher to the doc\n",
        "matches = matcher(doc)\n",
        "for match_id, start, end in matches:\n",
        "    matched_phrase = doc[start:end].text\n",
        "    print(f'Matched phrase: {matched_phrase}')"
      ]
    },
    {
      "cell_type": "code",
      "execution_count": null,
      "metadata": {
        "id": "eyXly9budzJ9"
      },
      "outputs": [],
      "source": [
        "# Define a stricter date pattern\n",
        "date_pattern = [\n",
        "    {'IS_DIGIT': True, 'LENGTH': {'>=': 4}},  # Year (fixed length for specific format)\n",
        "    {'ORTH': {'IN': ['January', 'February', 'March', 'April', 'May', 'June', 'July', 'August', 'September', 'October', 'November', 'December']}},  # Month\n",
        "    {'IS_DIGIT': True, 'LENGTH': 2},  # Day (fixed length for specific format)\n",
        "]\n",
        "\n",
        "# Add the date pattern to the matcher\n",
        "matcher.add('Date', [date_pattern])\n",
        "\n",
        "# Apply the matcher to the doc\n",
        "matches = matcher(doc)\n",
        "\n",
        "# Print matched phrases\n",
        "for match_id, start, end in matches:\n",
        "    matched_phrase = doc[start:end].text\n",
        "    print(f'Matched date: {matched_phrase}')\n"
      ]
    },
    {
      "cell_type": "code",
      "execution_count": null,
      "metadata": {
        "id": "UKjUenUwe0pq"
      },
      "outputs": [],
      "source": []
    }
  ],
  "metadata": {
    "colab": {
      "provenance": []
    },
    "kernelspec": {
      "display_name": "Python 3",
      "name": "python3"
    },
    "language_info": {
      "name": "python"
    }
  },
  "nbformat": 4,
  "nbformat_minor": 0
}
